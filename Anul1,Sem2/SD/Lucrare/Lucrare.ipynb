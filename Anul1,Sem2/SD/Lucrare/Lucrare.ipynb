{
 "cells": [
  {
   "cell_type": "code",
   "execution_count": 2,
   "metadata": {},
   "outputs": [],
   "source": [
    "#Buboi Oana-Andreea 212"
   ]
  },
  {
   "cell_type": "code",
   "execution_count": 3,
   "metadata": {},
   "outputs": [],
   "source": [
    "#Ex.1"
   ]
  },
  {
   "cell_type": "code",
   "execution_count": 24,
   "metadata": {},
   "outputs": [
    {
     "data": {
      "text/html": [
       "<html><script type=\"math/tex; mode=display\">\\newcommand{\\Bold}[1]{\\mathbf{#1}}\\left( t, k, T_{0}, \\mathit{Tm} \\right) \\ {\\mapsto} \\ {\\left(\\mathit{Tm} e^{\\left(k t\\right)} + T_{0} - \\mathit{Tm}\\right)} e^{\\left(-k t\\right)}</script></html>"
      ],
      "text/latex": [
       "\\begin{math}\n",
       "\\newcommand{\\Bold}[1]{\\mathbf{#1}}\\left( t, k, T_{0}, \\mathit{Tm} \\right) \\ {\\mapsto} \\ {\\left(\\mathit{Tm} e^{\\left(k t\\right)} + T_{0} - \\mathit{Tm}\\right)} e^{\\left(-k t\\right)}\n",
       "\\end{math}"
      ],
      "text/plain": [
       "(t, k, T0, Tm) |--> (Tm*e^(k*t) + T0 - Tm)*e^(-k*t)"
      ]
     },
     "metadata": {},
     "output_type": "display_data"
    }
   ],
   "source": [
    "reset()\n",
    "t=var('t')\n",
    "T0=var('T0')\n",
    "k=var('k')\n",
    "Tm=var('Tm')\n",
    "T=function('T')(t)\n",
    "eqd=diff(T,t)==-k*(T-Tm)\n",
    "sol(t,k,T0,Tm)=desolve(eqd,[T,t],ics=[0,T0])\n",
    "show(sol)"
   ]
  },
  {
   "cell_type": "code",
   "execution_count": 26,
   "metadata": {},
   "outputs": [
    {
     "data": {
      "text/html": [
       "<html><script type=\"math/tex; mode=display\">\\newcommand{\\Bold}[1]{\\mathbf{#1}}\\log\\left(7\\right)</script></html>"
      ],
      "text/latex": [
       "\\begin{math}\n",
       "\\newcommand{\\Bold}[1]{\\mathbf{#1}}\\log\\left(7\\right)\n",
       "\\end{math}"
      ],
      "text/plain": [
       "log(7)"
      ]
     },
     "metadata": {},
     "output_type": "display_data"
    },
    {
     "data": {
      "text/html": [
       "<html><script type=\"math/tex; mode=display\">\\newcommand{\\Bold}[1]{\\mathbf{#1}}\\left[\\mathit{td} = \\frac{\\log\\left(\\frac{15}{19}\\right)}{\\log\\left(7\\right)}\\right]</script></html>"
      ],
      "text/latex": [
       "\\begin{math}\n",
       "\\newcommand{\\Bold}[1]{\\mathbf{#1}}\\left[\\mathit{td} = \\frac{\\log\\left(\\frac{15}{19}\\right)}{\\log\\left(7\\right)}\\right]\n",
       "\\end{math}"
      ],
      "text/plain": [
       "[td == log(15/19)/log(7)]"
      ]
     },
     "metadata": {},
     "output_type": "display_data"
    }
   ],
   "source": [
    "ec1=sol(1,k,40,5)==10\n",
    "assume(k,'real')\n",
    "S1=solve(ec1,k)\n",
    "kk=S1[0].rhs()\n",
    "show(kk)\n",
    "td=var('td')\n",
    "eq2=sol(td,kk,36,21)==40\n",
    "S2=solve(eq2,td)\n",
    "show(S2)"
   ]
  },
  {
   "cell_type": "code",
   "execution_count": 4,
   "metadata": {},
   "outputs": [],
   "source": [
    "#Ex.2"
   ]
  },
  {
   "cell_type": "code",
   "execution_count": 34,
   "metadata": {},
   "outputs": [
    {
     "data": {
      "text/html": [
       "<html><script type=\"math/tex; mode=display\">\\newcommand{\\Bold}[1]{\\mathbf{#1}}\\left[x\\left(t\\right) = \\frac{2}{7} \\, {\\left(2 \\, C_{1} + 3 \\, C_{2}\\right)} e^{\\left(7 \\, t\\right)} + \\frac{3}{7} \\, C_{1} - \\frac{6}{7} \\, C_{2}, y\\left(t\\right) = \\frac{1}{7} \\, {\\left(2 \\, C_{1} + 3 \\, C_{2}\\right)} e^{\\left(7 \\, t\\right)} - \\frac{2}{7} \\, C_{1} + \\frac{4}{7} \\, C_{2}\\right]</script></html>"
      ],
      "text/latex": [
       "\\begin{math}\n",
       "\\newcommand{\\Bold}[1]{\\mathbf{#1}}\\left[x\\left(t\\right) = \\frac{2}{7} \\, {\\left(2 \\, C_{1} + 3 \\, C_{2}\\right)} e^{\\left(7 \\, t\\right)} + \\frac{3}{7} \\, C_{1} - \\frac{6}{7} \\, C_{2}, y\\left(t\\right) = \\frac{1}{7} \\, {\\left(2 \\, C_{1} + 3 \\, C_{2}\\right)} e^{\\left(7 \\, t\\right)} - \\frac{2}{7} \\, C_{1} + \\frac{4}{7} \\, C_{2}\\right]\n",
       "\\end{math}"
      ],
      "text/plain": [
       "[x(t) == 2/7*(2*C1 + 3*C2)*e^(7*t) + 3/7*C1 - 6/7*C2,\n",
       " y(t) == 1/7*(2*C1 + 3*C2)*e^(7*t) - 2/7*C1 + 4/7*C2]"
      ]
     },
     "metadata": {},
     "output_type": "display_data"
    }
   ],
   "source": [
    "reset()\n",
    "t=var('t')\n",
    "x=function('x')(t)\n",
    "y=function('y')(t)\n",
    "deq1=diff(x,t)==4*x+6*y\n",
    "deq2=diff(y,t)==2*x+3*y\n",
    "syst=[deq1,deq2]\n",
    "C1,C2=var('C1,C2')\n",
    "sol=desolve_system(syst,[x,y],[0,C1,C2])\n",
    "show(sol)"
   ]
  },
  {
   "cell_type": "code",
   "execution_count": 35,
   "metadata": {},
   "outputs": [
    {
     "data": {
      "text/html": [
       "<html><script type=\"math/tex; mode=display\">\\newcommand{\\Bold}[1]{\\mathbf{#1}}\\left[x\\left(t\\right) = \\frac{20}{7} \\, e^{\\left(7 \\, t\\right)} - \\frac{6}{7}, y\\left(t\\right) = \\frac{10}{7} \\, e^{\\left(7 \\, t\\right)} + \\frac{4}{7}\\right]</script></html>"
      ],
      "text/latex": [
       "\\begin{math}\n",
       "\\newcommand{\\Bold}[1]{\\mathbf{#1}}\\left[x\\left(t\\right) = \\frac{20}{7} \\, e^{\\left(7 \\, t\\right)} - \\frac{6}{7}, y\\left(t\\right) = \\frac{10}{7} \\, e^{\\left(7 \\, t\\right)} + \\frac{4}{7}\\right]\n",
       "\\end{math}"
      ],
      "text/plain": [
       "[x(t) == 20/7*e^(7*t) - 6/7, y(t) == 10/7*e^(7*t) + 4/7]"
      ]
     },
     "metadata": {},
     "output_type": "display_data"
    },
    {
     "data": {
      "image/png": "[encoded data removed]",
      "text/plain": [
       "Graphics object consisting of 2 graphics primitives"
      ]
     },
     "metadata": {},
     "output_type": "display_data"
    }
   ],
   "source": [
    "sol=desolve_system(syst,[x,y],[0,2,2])\n",
    "show(sol)\n",
    "sol_x(t)=sol[0].rhs()\n",
    "sol_y(t)=sol[1].rhs()\n",
    "g1=plot(sol_x(t),t,-1,1,color='red')\n",
    "g2=plot(sol_y(t),t,-1,1,color='blue')\n",
    "g=g1+g2\n",
    "g.show(ymin=-10,ymax=10)"
   ]
  },
  {
   "cell_type": "code",
   "execution_count": 12,
   "metadata": {},
   "outputs": [],
   "source": [
    "#Ex.3"
   ]
  },
  {
   "cell_type": "code",
   "execution_count": 37,
   "metadata": {},
   "outputs": [
    {
     "data": {
      "text/plain": [
       "[s == 0, s == 2, s == 4]"
      ]
     },
     "execution_count": 37,
     "metadata": {},
     "output_type": "execute_result"
    }
   ],
   "source": [
    "reset()\n",
    "t=var('t')\n",
    "x=function('x')(t)\n",
    "s=var('s')\n",
    "f=function('f')(s)\n",
    "f(s)=s*(2-s)*(s-4)\n",
    "eqp=solve(f(s)==0,s)\n",
    "eqp"
   ]
  },
  {
   "cell_type": "code",
   "execution_count": 38,
   "metadata": {},
   "outputs": [],
   "source": [
    "x1=eqp[0].rhs()\n",
    "x2=eqp[1].rhs()\n",
    "x3=eqp[2].rhs()"
   ]
  },
  {
   "cell_type": "code",
   "execution_count": 39,
   "metadata": {},
   "outputs": [
    {
     "data": {
      "text/plain": [
       "-8"
      ]
     },
     "execution_count": 39,
     "metadata": {},
     "output_type": "execute_result"
    }
   ],
   "source": [
    "diff(f,s)(x1)\n",
    "# x1 este local asimptotic stabil"
   ]
  },
  {
   "cell_type": "code",
   "execution_count": 40,
   "metadata": {},
   "outputs": [
    {
     "data": {
      "text/plain": [
       "4"
      ]
     },
     "execution_count": 40,
     "metadata": {},
     "output_type": "execute_result"
    }
   ],
   "source": [
    "diff(f,s)(x2)\n",
    "#x2 este instabil"
   ]
  },
  {
   "cell_type": "code",
   "execution_count": 41,
   "metadata": {},
   "outputs": [
    {
     "data": {
      "text/plain": [
       "-8"
      ]
     },
     "execution_count": 41,
     "metadata": {},
     "output_type": "execute_result"
    }
   ],
   "source": [
    "diff(f,s)(x3)\n",
    "# x3 este local asimptotic stabil"
   ]
  },
  {
   "cell_type": "code",
   "execution_count": 43,
   "metadata": {},
   "outputs": [
    {
     "data": {
      "image/png": "[encoded data removed]",
      "text/plain": [
       "Graphics object consisting of 7 graphics primitives"
      ]
     },
     "metadata": {},
     "output_type": "display_data"
    }
   ],
   "source": [
    "deq=diff(x,t)==f(x)\n",
    "g1=desolve_rk4(deq,x,[0,-2],step=0.01,end_points=[0,2],output='plot',color='blue')\n",
    "g2=desolve_rk4(deq,x,[0,-1],step=0.01,end_points=[0,2],output='plot',color='blue')\n",
    "g3=desolve_rk4(deq,x,[0,-0],step=0.01,end_points=[0,2],output='plot',color='blue')\n",
    "g4=desolve_rk4(deq,x,[0,1],step=0.01,end_points=[0,2],output='plot',color='blue')\n",
    "g5=desolve_rk4(deq,x,[0,2],step=0.01,end_points=[0,2],output='plot',color='blue')\n",
    "g6=desolve_rk4(deq,x,[0,3],step=0.01,end_points=[0,2],output='plot',color='blue')\n",
    "g7=desolve_rk4(deq,x,[0,4],step=0.01,end_points=[0,2],output='plot',color='blue')\n",
    "g=g1+g2+g3+g4+g5+g6+g7\n",
    "g.show(ymin=-3,ymax=5)"
   ]
  },
  {
   "cell_type": "code",
   "execution_count": 21,
   "metadata": {},
   "outputs": [],
   "source": [
    "#Ex.4"
   ]
  },
  {
   "cell_type": "code",
   "execution_count": 29,
   "metadata": {},
   "outputs": [
    {
     "data": {
      "text/plain": [
       "[[x == (-2*I), y == (1/2*I)], [x == (2*I), y == (-1/2*I)], [x == 2, y == (1/2)], [x == -2, y == (-1/2)]]"
      ]
     },
     "execution_count": 29,
     "metadata": {},
     "output_type": "execute_result"
    }
   ],
   "source": [
    "reset()\n",
    "x,y,t=var('x,y,t')\n",
    "f1(x,y)=x*y-1\n",
    "f2(x,y)=x^2-16*y^2\n",
    "eqp=solve([f1(x,y)==0,f2(x,y)==0],x,y)\n",
    "eqp"
   ]
  },
  {
   "cell_type": "code",
   "execution_count": 23,
   "metadata": {},
   "outputs": [
    {
     "data": {
      "text/plain": [
       "[-1/4*I*sqrt(1217) - 31/4*I, 1/4*I*sqrt(1217) - 31/4*I]"
      ]
     },
     "execution_count": 23,
     "metadata": {},
     "output_type": "execute_result"
    }
   ],
   "source": [
    "Jacobi=jacobian((f1(x,y),f2(x,y)),(x,y))\n",
    "Jacobi(x=-2*I,y=1/2*I).eigenvalues()\n",
    "#(-2*i,1/2*i) este de tip focus, Re(lambda)<=0 local stabil"
   ]
  },
  {
   "cell_type": "code",
   "execution_count": 31,
   "metadata": {},
   "outputs": [
    {
     "data": {
      "text/plain": [
       "[-1/4*I*sqrt(1217) + 31/4*I, 1/4*I*sqrt(1217) + 31/4*I]"
      ]
     },
     "execution_count": 31,
     "metadata": {},
     "output_type": "execute_result"
    }
   ],
   "source": [
    "Jacobi=jacobian((f1(x,y),f2(x,y)),(x,y))\n",
    "Jacobi(x=2*I,y=-1/2*I).eigenvalues()\n",
    "#(-2*i,1/2*i) este de tip focus, Re(lambda)<=0 local stabil"
   ]
  },
  {
   "cell_type": "code",
   "execution_count": 32,
   "metadata": {},
   "outputs": [
    {
     "data": {
      "text/plain": [
       "[-1/4*sqrt(1217) - 31/4, 1/4*sqrt(1217) - 31/4]"
      ]
     },
     "execution_count": 32,
     "metadata": {},
     "output_type": "execute_result"
    }
   ],
   "source": [
    "Jacobi=jacobian((f1(x,y),f2(x,y)),(x,y))\n",
    "Jacobi(x=2,y=1/2).eigenvalues()\n",
    "#(2,1/2) este de tip sa, Re(lambda)<=0 asimptotic stabil"
   ]
  },
  {
   "cell_type": "code",
   "execution_count": 33,
   "metadata": {},
   "outputs": [
    {
     "data": {
      "text/plain": [
       "[-1/4*sqrt(1217) + 31/4, 1/4*sqrt(1217) + 31/4]"
      ]
     },
     "execution_count": 33,
     "metadata": {},
     "output_type": "execute_result"
    }
   ],
   "source": [
    "Jacobi=jacobian((f1(x,y),f2(x,y)),(x,y))\n",
    "Jacobi(x=-2,y=-1/2).eigenvalues()\n",
    "#(-2,-1/2) este de tip nod, instabil"
   ]
  },
  {
   "cell_type": "code",
   "execution_count": null,
   "metadata": {},
   "outputs": [],
   "source": []
  }
 ],
 "metadata": {
  "kernelspec": {
   "display_name": "SageMath 9.2",
   "language": "sage",
   "name": "sagemath"
  },
  "language_info": {
   "codemirror_mode": {
    "name": "ipython",
    "version": 3
   },
   "file_extension": ".py",
   "mimetype": "text/x-python",
   "name": "python",
   "nbconvert_exporter": "python",
   "pygments_lexer": "ipython3",
   "version": "3.7.7"
  }
 },
 "nbformat": 4,
 "nbformat_minor": 4
}
